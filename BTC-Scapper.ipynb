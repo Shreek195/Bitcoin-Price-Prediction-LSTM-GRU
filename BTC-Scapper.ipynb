{
 "cells": [
  {
   "cell_type": "code",
   "execution_count": 1,
   "id": "2086e5c2-930f-4b56-b311-8daa54746bb3",
   "metadata": {},
   "outputs": [],
   "source": [
    "import yfinance as yf\n",
    "import pandas as pd"
   ]
  },
  {
   "cell_type": "code",
   "execution_count": 2,
   "id": "a5df77c9-98c9-49a5-9e3b-4ea0c3dd2e3d",
   "metadata": {},
   "outputs": [
    {
     "name": "stderr",
     "output_type": "stream",
     "text": [
      "C:\\Users\\Koshti's PC\\AppData\\Local\\Temp\\ipykernel_14576\\2368620013.py:2: FutureWarning: YF.download() has changed argument auto_adjust default to True\n",
      "  btc_data = yf.download('BTC-USD', start='2014-01-01', end='2025-08-01', interval='1d')\n",
      "[*********************100%***********************]  1 of 1 completed"
     ]
    },
    {
     "name": "stdout",
     "output_type": "stream",
     "text": [
      "Price            Close        High         Low        Open    Volume\n",
      "Ticker         BTC-USD     BTC-USD     BTC-USD     BTC-USD   BTC-USD\n",
      "Date                                                                \n",
      "2014-09-17  457.334015  468.174011  452.421997  465.864014  21056800\n",
      "2014-09-18  424.440002  456.859985  413.104004  456.859985  34483200\n",
      "2014-09-19  394.795990  427.834991  384.532013  424.102997  37919700\n",
      "2014-09-20  408.903992  423.295990  389.882996  394.673004  36863600\n",
      "2014-09-21  398.821014  412.425995  393.181000  408.084991  26580100\n"
     ]
    },
    {
     "name": "stderr",
     "output_type": "stream",
     "text": [
      "\n"
     ]
    }
   ],
   "source": [
    "# Download BTC-USD historical data (daily)\n",
    "btc_data = yf.download('BTC-USD', start='2014-01-01', end='2025-08-01', interval='1d')\n",
    "\n",
    "# Save to CSV\n",
    "btc_data.to_csv('bitcoin_price.csv')\n",
    "\n",
    "print(btc_data.head())"
   ]
  },
  {
   "cell_type": "code",
   "execution_count": null,
   "id": "6b16225c-1d3f-4633-a8b7-af11b65b4453",
   "metadata": {},
   "outputs": [],
   "source": []
  }
 ],
 "metadata": {
  "kernelspec": {
   "display_name": "Python (myproject)",
   "language": "python",
   "name": "myproject"
  },
  "language_info": {
   "codemirror_mode": {
    "name": "ipython",
    "version": 3
   },
   "file_extension": ".py",
   "mimetype": "text/x-python",
   "name": "python",
   "nbconvert_exporter": "python",
   "pygments_lexer": "ipython3",
   "version": "3.10.18"
  }
 },
 "nbformat": 4,
 "nbformat_minor": 5
}

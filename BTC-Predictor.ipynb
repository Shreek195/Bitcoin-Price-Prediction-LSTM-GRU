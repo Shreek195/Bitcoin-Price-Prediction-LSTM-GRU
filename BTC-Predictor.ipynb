{
 "cells": [
  {
   "cell_type": "code",
   "execution_count": 1,
   "id": "ca3c8972-8b71-477f-a917-b4ee4b4cdb33",
   "metadata": {},
   "outputs": [
    {
     "name": "stderr",
     "output_type": "stream",
     "text": [
      "C:\\anaconda3\\envs\\myproject\\lib\\site-packages\\requests\\__init__.py:86: RequestsDependencyWarning: Unable to find acceptable character detection dependency (chardet or charset_normalizer).\n",
      "  warnings.warn(\n"
     ]
    }
   ],
   "source": [
    "import os\n",
    "import pandas as pd\n",
    "import numpy as np\n",
    "\n",
    "import plotly.express as px\n",
    "import matplotlib.pyplot as plt\n",
    "import seaborn as sns\n",
    "\n",
    "from sklearn.preprocessing import MinMaxScaler\n",
    "from sklearn.metrics import mean_squared_error, mean_absolute_error, r2_score, accuracy_score\n",
    "\n",
    "import tensorflow as tf\n",
    "from tensorflow import keras\n",
    "from tensorflow.keras.models import Sequential\n",
    "from tensorflow.keras.layers import Dense, LSTM, Reshape, Dropout, GRU\n",
    "from tensorflow.keras.callbacks import EarlyStopping, ModelCheckpoint\n",
    "from tensorflow.keras.metrics import RootMeanSquaredError\n",
    "\n",
    "import keras_tuner as kt\n",
    "# import keras.backend as K"
   ]
  },
  {
   "cell_type": "markdown",
   "id": "2190ac39-0bb0-428d-96ce-88c27545ec9f",
   "metadata": {},
   "source": [
    "### Data preparation"
   ]
  },
  {
   "cell_type": "code",
   "execution_count": 2,
   "id": "1f2c36a2-2033-4086-89e8-903a73e13bf5",
   "metadata": {},
   "outputs": [],
   "source": [
    "# Read CSV\n",
    "col_names = ['Date', 'Close', 'High', 'Low', 'Open', 'Volume']\n",
    "df = pd.read_csv('bitcoin_price.csv', skiprows=2, names=col_names) # Already checked above 2 unnecessary rows"
   ]
  },
  {
   "cell_type": "code",
   "execution_count": 3,
   "id": "14cf04e4-1785-48fd-a884-c5f3d258a0ff",
   "metadata": {},
   "outputs": [
    {
     "data": {
      "text/html": [
       "<div>\n",
       "<style scoped>\n",
       "    .dataframe tbody tr th:only-of-type {\n",
       "        vertical-align: middle;\n",
       "    }\n",
       "\n",
       "    .dataframe tbody tr th {\n",
       "        vertical-align: top;\n",
       "    }\n",
       "\n",
       "    .dataframe thead th {\n",
       "        text-align: right;\n",
       "    }\n",
       "</style>\n",
       "<table border=\"1\" class=\"dataframe\">\n",
       "  <thead>\n",
       "    <tr style=\"text-align: right;\">\n",
       "      <th></th>\n",
       "      <th>Close</th>\n",
       "      <th>High</th>\n",
       "      <th>Low</th>\n",
       "      <th>Open</th>\n",
       "      <th>Volume</th>\n",
       "    </tr>\n",
       "  </thead>\n",
       "  <tbody>\n",
       "    <tr>\n",
       "      <th>count</th>\n",
       "      <td>3971.000000</td>\n",
       "      <td>3971.000000</td>\n",
       "      <td>3971.000000</td>\n",
       "      <td>3971.000000</td>\n",
       "      <td>3.971000e+03</td>\n",
       "    </tr>\n",
       "    <tr>\n",
       "      <th>mean</th>\n",
       "      <td>23819.174933</td>\n",
       "      <td>24295.273006</td>\n",
       "      <td>23266.187200</td>\n",
       "      <td>23791.282610</td>\n",
       "      <td>2.011382e+10</td>\n",
       "    </tr>\n",
       "    <tr>\n",
       "      <th>std</th>\n",
       "      <td>28064.553304</td>\n",
       "      <td>28559.827770</td>\n",
       "      <td>27485.440528</td>\n",
       "      <td>28030.210764</td>\n",
       "      <td>2.147525e+10</td>\n",
       "    </tr>\n",
       "    <tr>\n",
       "      <th>min</th>\n",
       "      <td>178.102997</td>\n",
       "      <td>211.731003</td>\n",
       "      <td>171.509995</td>\n",
       "      <td>176.897003</td>\n",
       "      <td>5.914570e+06</td>\n",
       "    </tr>\n",
       "    <tr>\n",
       "      <th>25%</th>\n",
       "      <td>2329.104980</td>\n",
       "      <td>2424.464966</td>\n",
       "      <td>2265.059937</td>\n",
       "      <td>2322.225098</td>\n",
       "      <td>9.613275e+08</td>\n",
       "    </tr>\n",
       "    <tr>\n",
       "      <th>50%</th>\n",
       "      <td>10141.996094</td>\n",
       "      <td>10341.555664</td>\n",
       "      <td>9777.419922</td>\n",
       "      <td>10136.309570</td>\n",
       "      <td>1.616927e+10</td>\n",
       "    </tr>\n",
       "    <tr>\n",
       "      <th>75%</th>\n",
       "      <td>37985.552734</td>\n",
       "      <td>39225.917969</td>\n",
       "      <td>36907.476562</td>\n",
       "      <td>37900.130859</td>\n",
       "      <td>3.148331e+10</td>\n",
       "    </tr>\n",
       "    <tr>\n",
       "      <th>max</th>\n",
       "      <td>119995.414062</td>\n",
       "      <td>123091.609375</td>\n",
       "      <td>118959.195312</td>\n",
       "      <td>119997.445312</td>\n",
       "      <td>3.509679e+11</td>\n",
       "    </tr>\n",
       "  </tbody>\n",
       "</table>\n",
       "</div>"
      ],
      "text/plain": [
       "               Close           High            Low           Open  \\\n",
       "count    3971.000000    3971.000000    3971.000000    3971.000000   \n",
       "mean    23819.174933   24295.273006   23266.187200   23791.282610   \n",
       "std     28064.553304   28559.827770   27485.440528   28030.210764   \n",
       "min       178.102997     211.731003     171.509995     176.897003   \n",
       "25%      2329.104980    2424.464966    2265.059937    2322.225098   \n",
       "50%     10141.996094   10341.555664    9777.419922   10136.309570   \n",
       "75%     37985.552734   39225.917969   36907.476562   37900.130859   \n",
       "max    119995.414062  123091.609375  118959.195312  119997.445312   \n",
       "\n",
       "             Volume  \n",
       "count  3.971000e+03  \n",
       "mean   2.011382e+10  \n",
       "std    2.147525e+10  \n",
       "min    5.914570e+06  \n",
       "25%    9.613275e+08  \n",
       "50%    1.616927e+10  \n",
       "75%    3.148331e+10  \n",
       "max    3.509679e+11  "
      ]
     },
     "execution_count": 3,
     "metadata": {},
     "output_type": "execute_result"
    }
   ],
   "source": [
    "df.describe()"
   ]
  },
  {
   "cell_type": "code",
   "execution_count": 4,
   "id": "a07db2a0-99ef-4e7b-af90-00ce29aedc29",
   "metadata": {},
   "outputs": [
    {
     "data": {
      "text/html": [
       "<div>\n",
       "<style scoped>\n",
       "    .dataframe tbody tr th:only-of-type {\n",
       "        vertical-align: middle;\n",
       "    }\n",
       "\n",
       "    .dataframe tbody tr th {\n",
       "        vertical-align: top;\n",
       "    }\n",
       "\n",
       "    .dataframe thead th {\n",
       "        text-align: right;\n",
       "    }\n",
       "</style>\n",
       "<table border=\"1\" class=\"dataframe\">\n",
       "  <thead>\n",
       "    <tr style=\"text-align: right;\">\n",
       "      <th></th>\n",
       "      <th>Date</th>\n",
       "      <th>Close</th>\n",
       "    </tr>\n",
       "  </thead>\n",
       "  <tbody>\n",
       "    <tr>\n",
       "      <th>0</th>\n",
       "      <td>Date</td>\n",
       "      <td>NaN</td>\n",
       "    </tr>\n",
       "    <tr>\n",
       "      <th>1</th>\n",
       "      <td>2014-09-17</td>\n",
       "      <td>457.334015</td>\n",
       "    </tr>\n",
       "    <tr>\n",
       "      <th>2</th>\n",
       "      <td>2014-09-18</td>\n",
       "      <td>424.440002</td>\n",
       "    </tr>\n",
       "    <tr>\n",
       "      <th>3</th>\n",
       "      <td>2014-09-19</td>\n",
       "      <td>394.795990</td>\n",
       "    </tr>\n",
       "    <tr>\n",
       "      <th>4</th>\n",
       "      <td>2014-09-20</td>\n",
       "      <td>408.903992</td>\n",
       "    </tr>\n",
       "  </tbody>\n",
       "</table>\n",
       "</div>"
      ],
      "text/plain": [
       "         Date       Close\n",
       "0        Date         NaN\n",
       "1  2014-09-17  457.334015\n",
       "2  2014-09-18  424.440002\n",
       "3  2014-09-19  394.795990\n",
       "4  2014-09-20  408.903992"
      ]
     },
     "execution_count": 4,
     "metadata": {},
     "output_type": "execute_result"
    }
   ],
   "source": [
    "# We work on univarite data so\n",
    "df_close_price = df[['Date', 'Close']]\n",
    "df_close_price.head()"
   ]
  },
  {
   "cell_type": "code",
   "execution_count": 5,
   "id": "86cd70eb-66ba-4494-8143-876dd388d9bb",
   "metadata": {},
   "outputs": [
    {
     "name": "stderr",
     "output_type": "stream",
     "text": [
      "C:\\Users\\Koshti's PC\\AppData\\Local\\Temp\\ipykernel_6888\\2805846416.py:3: SettingWithCopyWarning: \n",
      "A value is trying to be set on a copy of a slice from a DataFrame\n",
      "\n",
      "See the caveats in the documentation: https://pandas.pydata.org/pandas-docs/stable/user_guide/indexing.html#returning-a-view-versus-a-copy\n",
      "  df_close_price.dropna(inplace=True)\n"
     ]
    },
    {
     "data": {
      "text/html": [
       "<div>\n",
       "<style scoped>\n",
       "    .dataframe tbody tr th:only-of-type {\n",
       "        vertical-align: middle;\n",
       "    }\n",
       "\n",
       "    .dataframe tbody tr th {\n",
       "        vertical-align: top;\n",
       "    }\n",
       "\n",
       "    .dataframe thead th {\n",
       "        text-align: right;\n",
       "    }\n",
       "</style>\n",
       "<table border=\"1\" class=\"dataframe\">\n",
       "  <thead>\n",
       "    <tr style=\"text-align: right;\">\n",
       "      <th></th>\n",
       "      <th>Date</th>\n",
       "      <th>Close</th>\n",
       "    </tr>\n",
       "  </thead>\n",
       "  <tbody>\n",
       "    <tr>\n",
       "      <th>1</th>\n",
       "      <td>2014-09-17</td>\n",
       "      <td>457.334015</td>\n",
       "    </tr>\n",
       "    <tr>\n",
       "      <th>2</th>\n",
       "      <td>2014-09-18</td>\n",
       "      <td>424.440002</td>\n",
       "    </tr>\n",
       "    <tr>\n",
       "      <th>3</th>\n",
       "      <td>2014-09-19</td>\n",
       "      <td>394.795990</td>\n",
       "    </tr>\n",
       "    <tr>\n",
       "      <th>4</th>\n",
       "      <td>2014-09-20</td>\n",
       "      <td>408.903992</td>\n",
       "    </tr>\n",
       "    <tr>\n",
       "      <th>5</th>\n",
       "      <td>2014-09-21</td>\n",
       "      <td>398.821014</td>\n",
       "    </tr>\n",
       "  </tbody>\n",
       "</table>\n",
       "</div>"
      ],
      "text/plain": [
       "         Date       Close\n",
       "1  2014-09-17  457.334015\n",
       "2  2014-09-18  424.440002\n",
       "3  2014-09-19  394.795990\n",
       "4  2014-09-20  408.903992\n",
       "5  2014-09-21  398.821014"
      ]
     },
     "execution_count": 5,
     "metadata": {},
     "output_type": "execute_result"
    }
   ],
   "source": [
    "# Null values\n",
    "df_close_price.isna().sum()\n",
    "df_close_price.dropna(inplace=True)\n",
    "df_close_price.head()"
   ]
  },
  {
   "cell_type": "code",
   "execution_count": 6,
   "id": "32463a01-3b4f-489f-b516-6696d0674453",
   "metadata": {},
   "outputs": [
    {
     "name": "stdout",
     "output_type": "stream",
     "text": [
      "<class 'pandas.core.frame.DataFrame'>\n",
      "Index: 3971 entries, 1 to 3971\n",
      "Data columns (total 2 columns):\n",
      " #   Column  Non-Null Count  Dtype  \n",
      "---  ------  --------------  -----  \n",
      " 0   Date    3971 non-null   object \n",
      " 1   Close   3971 non-null   float64\n",
      "dtypes: float64(1), object(1)\n",
      "memory usage: 93.1+ KB\n"
     ]
    }
   ],
   "source": [
    "# Check DTYPES\n",
    "df_close_price.info()"
   ]
  },
  {
   "cell_type": "code",
   "execution_count": 7,
   "id": "a84b7143-d205-4cae-8826-bee2e7a44f8b",
   "metadata": {},
   "outputs": [
    {
     "name": "stderr",
     "output_type": "stream",
     "text": [
      "C:\\Users\\Koshti's PC\\AppData\\Local\\Temp\\ipykernel_6888\\3228809802.py:1: SettingWithCopyWarning: \n",
      "A value is trying to be set on a copy of a slice from a DataFrame.\n",
      "Try using .loc[row_indexer,col_indexer] = value instead\n",
      "\n",
      "See the caveats in the documentation: https://pandas.pydata.org/pandas-docs/stable/user_guide/indexing.html#returning-a-view-versus-a-copy\n",
      "  df_close_price['Date'] = pd.to_datetime(df_close_price['Date'])\n"
     ]
    }
   ],
   "source": [
    "df_close_price['Date'] = pd.to_datetime(df_close_price['Date'])"
   ]
  },
  {
   "cell_type": "code",
   "execution_count": 8,
   "id": "32d28bb9-3a45-4932-b726-f683f62852e8",
   "metadata": {},
   "outputs": [
    {
     "name": "stdout",
     "output_type": "stream",
     "text": [
      "<class 'pandas.core.frame.DataFrame'>\n",
      "Index: 3971 entries, 1 to 3971\n",
      "Data columns (total 2 columns):\n",
      " #   Column  Non-Null Count  Dtype         \n",
      "---  ------  --------------  -----         \n",
      " 0   Date    3971 non-null   datetime64[ns]\n",
      " 1   Close   3971 non-null   float64       \n",
      "dtypes: datetime64[ns](1), float64(1)\n",
      "memory usage: 93.1 KB\n"
     ]
    }
   ],
   "source": [
    "df_close_price.info()"
   ]
  },
  {
   "cell_type": "code",
   "execution_count": 9,
   "id": "c53350b0-4026-4b16-a778-01fc4fc9d94c",
   "metadata": {},
   "outputs": [
    {
     "data": {
      "image/png": "[encoded data removed]",
      "text/plain": [
       "<Figure size 800x500 with 1 Axes>"
      ]
     },
     "metadata": {},
     "output_type": "display_data"
    }
   ],
   "source": [
    "# Visualizing\n",
    "sns.set_style('whitegrid')\n",
    "plt.figure(figsize=(8, 5))\n",
    "sns.lineplot(data=df_close_price, x='Date', y='Close', color='green', linewidth=1)\n",
    "\n",
    "plt.title('Bitcoin Closing Price (01-01-2014 to 01-08-2025)')\n",
    "plt.xlabel('Date', fontsize=10)\n",
    "plt.ylabel('Closing Price', fontsize=10)\n",
    "# plt.xticks(rotation=45)\n",
    "\n",
    "# plt.tight_layout()\n",
    "plt.show()"
   ]
  },
  {
   "cell_type": "code",
   "execution_count": 10,
   "id": "f0ef0894-4b36-431e-948f-221cb900e453",
   "metadata": {},
   "outputs": [
    {
     "data": {
      "text/plain": [
       "array([   457.33401489,    424.44000244,    394.79598999, ...,\n",
       "       117922.1484375 , 117831.1875    , 115758.203125  ])"
      ]
     },
     "execution_count": 10,
     "metadata": {},
     "output_type": "execute_result"
    }
   ],
   "source": [
    "# Train Test Split\n",
    "values = df_close_price['Close'].values\n",
    "values"
   ]
  },
  {
   "cell_type": "code",
   "execution_count": 11,
   "id": "2c7b0715-d21e-4705-b602-e670a72a07b9",
   "metadata": {},
   "outputs": [],
   "source": [
    "split_index = int(len(values) * 0.8)\n",
    "train_vals = values[ :split_index]\n",
    "test_vals = values[split_index: ]"
   ]
  },
  {
   "cell_type": "code",
   "execution_count": 12,
   "id": "04070469-4493-47de-84d6-89e51d50dd76",
   "metadata": {},
   "outputs": [],
   "source": [
    "# Data Scaling\n",
    "scaler = MinMaxScaler()\n",
    "train_scaled = scaler.fit_transform(train_vals.reshape(-1, 1))\n",
    "test_scaled = scaler.transform(test_vals.reshape(-1, 1))"
   ]
  },
  {
   "cell_type": "code",
   "execution_count": 13,
   "id": "8b517888-8ae6-4713-993c-b2fa74fc6c17",
   "metadata": {},
   "outputs": [
    {
     "data": {
      "text/plain": [
       "(3971,)"
      ]
     },
     "execution_count": 13,
     "metadata": {},
     "output_type": "execute_result"
    }
   ],
   "source": [
    "full_scaled = np.concatenate([train_scaled, test_scaled], axis=0).squeeze()\n",
    "full_scaled.shape"
   ]
  },
  {
   "cell_type": "code",
   "execution_count": 14,
   "id": "2990d83d-7403-4808-b3a0-e9aa009f26e9",
   "metadata": {},
   "outputs": [],
   "source": [
    "# Creating window and horizon as we have forcasting data\n",
    "HORIZON = 1\n",
    "WINDOW_SIZE = 7"
   ]
  },
  {
   "cell_type": "code",
   "execution_count": 15,
   "id": "92964afe-7b18-4277-9c3e-d5eec55176bd",
   "metadata": {},
   "outputs": [],
   "source": [
    "def get_labelled_windows(x, horizon):\n",
    "    \"\"\"\n",
    "    Returning window and label of the given data\n",
    "    \"\"\"\n",
    "    return x[:, :-horizon], x[:, -horizon: ]"
   ]
  },
  {
   "cell_type": "code",
   "execution_count": 16,
   "id": "3f726ab9-e8f5-4be6-8c9b-23d506032eeb",
   "metadata": {},
   "outputs": [],
   "source": [
    "def make_windows(x, window_size, horizon):\n",
    "    \"\"\"\n",
    "    Converting 1D array into 2D array of sequential windows\n",
    "    \"\"\"\n",
    "\n",
    "    window_step = np.expand_dims(np.arange(window_size+horizon), axis=0)\n",
    "    window_indexes = window_step + np.expand_dims(np.arange(len(x) - window_size+horizon-1), axis=1)\n",
    "\n",
    "    windowed_array = x[window_indexes]\n",
    "    windows, labels = get_labelled_windows(windowed_array, horizon=horizon)\n",
    "    return windows, labels"
   ]
  },
  {
   "cell_type": "code",
   "execution_count": 17,
   "id": "17854889-dfca-4ff5-9915-d41cde3217be",
   "metadata": {},
   "outputs": [
    {
     "data": {
      "text/plain": [
       "((3964, 7), (3964, 1))"
      ]
     },
     "execution_count": 17,
     "metadata": {},
     "output_type": "execute_result"
    }
   ],
   "source": [
    "full_windows, full_labels = make_windows(full_scaled, window_size=WINDOW_SIZE, horizon=HORIZON)\n",
    "full_windows.shape, full_labels.shape"
   ]
  },
  {
   "cell_type": "code",
   "execution_count": 18,
   "id": "7c6d251d-7eeb-4591-8bfd-cc6b6f2fc012",
   "metadata": {},
   "outputs": [
    {
     "name": "stdout",
     "output_type": "stream",
     "text": [
      "Window -> [0.00414359 0.00365546 0.00321557 0.00342492 0.0032753  0.00332473\n",
      " 0.0038239 ], Label -> [0.00363714]\n",
      "Window -> [0.00365546 0.00321557 0.00342492 0.0032753  0.00332473 0.0038239\n",
      " 0.00363714], Label -> [0.00346454]\n",
      "Window -> [0.00321557 0.00342492 0.0032753  0.00332473 0.0038239  0.00363714\n",
      " 0.00346454], Label -> [0.00335845]\n"
     ]
    }
   ],
   "source": [
    "# 3 data from top\n",
    "for i in range(3):\n",
    "    print(f\"Window -> {full_windows[i]}, Label -> {full_labels[i]}\")"
   ]
  },
  {
   "cell_type": "code",
   "execution_count": 19,
   "id": "d5778eaa-0332-40fe-936d-cf063df5d0a7",
   "metadata": {},
   "outputs": [],
   "source": [
    "# Window and horizon Train test split\n",
    "def make_train_test_split(windows, labels, test_split):\n",
    "    \"\"\"\n",
    "    Creates Window and label train-test split\n",
    "    \"\"\"\n",
    "    split_size = int(len(windows) * (1 - test_split))\n",
    "    train_windows = windows[ :split_size]\n",
    "    train_labels = labels[ :split_size]\n",
    "    test_windows = windows[split_size: ]\n",
    "    test_labels = labels[split_size: ]\n",
    "\n",
    "    return train_windows, train_labels, test_windows, test_labels"
   ]
  },
  {
   "cell_type": "code",
   "execution_count": 20,
   "id": "77ecd676-4818-4a8e-82bf-2a99e2d2443c",
   "metadata": {},
   "outputs": [
    {
     "data": {
      "text/plain": [
       "((3171, 7), (3171, 1), (793, 7), (793, 1))"
      ]
     },
     "execution_count": 20,
     "metadata": {},
     "output_type": "execute_result"
    }
   ],
   "source": [
    "train_windows, train_labels, test_windows, test_labels = make_train_test_split(full_windows, full_labels, test_split=0.2)\n",
    "train_windows.shape, train_labels.shape, test_windows.shape, test_labels.shape"
   ]
  },
  {
   "cell_type": "markdown",
   "id": "2d4ff08e-6893-4f16-9167-7cea688c1a5b",
   "metadata": {},
   "source": [
    "### Model Training"
   ]
  },
  {
   "cell_type": "code",
   "execution_count": 21,
   "id": "0a62f271-2097-4243-8494-a1a0e3413b69",
   "metadata": {},
   "outputs": [],
   "source": [
    "def create_model_checkpoint(model_name, save_path='model_exp'):\n",
    "    \"\"\"\n",
    "    Saving each models\n",
    "    \"\"\"\n",
    "    return ModelCheckpoint(filepath=os.path.join(save_path, model_name),\n",
    "                          verbose=0,\n",
    "                          save_best_only=True)"
   ]
  },
  {
   "cell_type": "code",
   "execution_count": 22,
   "id": "d5fb891c-6108-41e2-be54-7859307ce379",
   "metadata": {},
   "outputs": [],
   "source": [
    "# Evaluation metrics will be RMSE\n",
    "def root_mean_squared_error(y_true, y_pred):\n",
    "    return tf.sqrt(tf.reduce_mean(tf.square(y_pred - y_true)))"
   ]
  },
  {
   "cell_type": "code",
   "execution_count": 23,
   "id": "6f6a199f-6984-4f33-bbb8-7f85e2bc8cf4",
   "metadata": {},
   "outputs": [
    {
     "data": {
      "text/plain": [
       "<RootMeanSquaredError name=root_mean_squared_error>"
      ]
     },
     "execution_count": 23,
     "metadata": {},
     "output_type": "execute_result"
    }
   ],
   "source": [
    "tf.keras.metrics.RootMeanSquaredError(\n",
    "    name='root_mean_squared_error', dtype=None\n",
    ")"
   ]
  },
  {
   "cell_type": "markdown",
   "id": "00e2c9fa-0a2f-4d0a-a7df-d04ef5298750",
   "metadata": {},
   "source": [
    "#### Model 1: LSTM"
   ]
  },
  {
   "cell_type": "code",
   "execution_count": 24,
   "id": "42188b6c-5450-43f6-8fb9-80061910e6e2",
   "metadata": {},
   "outputs": [
    {
     "name": "stderr",
     "output_type": "stream",
     "text": [
      "C:\\anaconda3\\envs\\myproject\\lib\\site-packages\\keras\\src\\layers\\reshaping\\reshape.py:39: UserWarning: Do not pass an `input_shape`/`input_dim` argument to a layer. When using Sequential models, prefer using an `Input(shape)` object as the first layer in the model instead.\n",
      "  super().__init__(**kwargs)\n"
     ]
    }
   ],
   "source": [
    "model_1 = Sequential(name='model1_LSTM')\n",
    "\n",
    "model_1.add(Reshape((WINDOW_SIZE, 1), input_shape=(WINDOW_SIZE,)))\n",
    "model_1.add(LSTM(50, activation='tanh', return_sequences=True))\n",
    "model_1.add(LSTM(50, activation='tanh'))\n",
    "model_1.add(Dropout(0.2))\n",
    "\n",
    "model_1.add(Dense(HORIZON))\n",
    "\n",
    "model_1.compile(loss='mean_squared_error', \n",
    "              optimizer='adam',\n",
    "              metrics=[tf.keras.metrics.RootMeanSquaredError()])"
   ]
  },
  {
   "cell_type": "code",
   "execution_count": 25,
   "id": "a977d161-0920-4b83-bed5-a3080f1ee366",
   "metadata": {},
   "outputs": [
    {
     "data": {
      "text/html": [
       "<pre style=\"white-space:pre;overflow-x:auto;line-height:normal;font-family:Menlo,'DejaVu Sans Mono',consolas,'Courier New',monospace\"><span style=\"font-weight: bold\">Model: \"model1_LSTM\"</span>\n",
       "</pre>\n"
      ],
      "text/plain": [
       "\u001b[1mModel: \"model1_LSTM\"\u001b[0m\n"
      ]
     },
     "metadata": {},
     "output_type": "display_data"
    },
    {
     "data": {
      "text/html": [
       "<pre style=\"white-space:pre;overflow-x:auto;line-height:normal;font-family:Menlo,'DejaVu Sans Mono',consolas,'Courier New',monospace\">┏━━━━━━━━━━━━━━━━━━━━━━━━━━━━━━━━━┳━━━━━━━━━━━━━━━━━━━━━━━━┳━━━━━━━━━━━━━━━┓\n",
       "┃<span style=\"font-weight: bold\"> Layer (type)                    </span>┃<span style=\"font-weight: bold\"> Output Shape           </span>┃<span style=\"font-weight: bold\">       Param # </span>┃\n",
       "┡━━━━━━━━━━━━━━━━━━━━━━━━━━━━━━━━━╇━━━━━━━━━━━━━━━━━━━━━━━━╇━━━━━━━━━━━━━━━┩\n",
       "│ reshape (<span style=\"color: #0087ff; text-decoration-color: #0087ff\">Reshape</span>)               │ (<span style=\"color: #00d7ff; text-decoration-color: #00d7ff\">None</span>, <span style=\"color: #00af00; text-decoration-color: #00af00\">7</span>, <span style=\"color: #00af00; text-decoration-color: #00af00\">1</span>)           │             <span style=\"color: #00af00; text-decoration-color: #00af00\">0</span> │\n",
       "├─────────────────────────────────┼────────────────────────┼───────────────┤\n",
       "│ lstm (<span style=\"color: #0087ff; text-decoration-color: #0087ff\">LSTM</span>)                     │ (<span style=\"color: #00d7ff; text-decoration-color: #00d7ff\">None</span>, <span style=\"color: #00af00; text-decoration-color: #00af00\">7</span>, <span style=\"color: #00af00; text-decoration-color: #00af00\">50</span>)          │        <span style=\"color: #00af00; text-decoration-color: #00af00\">10,400</span> │\n",
       "├─────────────────────────────────┼────────────────────────┼───────────────┤\n",
       "│ lstm_1 (<span style=\"color: #0087ff; text-decoration-color: #0087ff\">LSTM</span>)                   │ (<span style=\"color: #00d7ff; text-decoration-color: #00d7ff\">None</span>, <span style=\"color: #00af00; text-decoration-color: #00af00\">50</span>)             │        <span style=\"color: #00af00; text-decoration-color: #00af00\">20,200</span> │\n",
       "├─────────────────────────────────┼────────────────────────┼───────────────┤\n",
       "│ dropout (<span style=\"color: #0087ff; text-decoration-color: #0087ff\">Dropout</span>)               │ (<span style=\"color: #00d7ff; text-decoration-color: #00d7ff\">None</span>, <span style=\"color: #00af00; text-decoration-color: #00af00\">50</span>)             │             <span style=\"color: #00af00; text-decoration-color: #00af00\">0</span> │\n",
       "├─────────────────────────────────┼────────────────────────┼───────────────┤\n",
       "│ dense (<span style=\"color: #0087ff; text-decoration-color: #0087ff\">Dense</span>)                   │ (<span style=\"color: #00d7ff; text-decoration-color: #00d7ff\">None</span>, <span style=\"color: #00af00; text-decoration-color: #00af00\">1</span>)              │            <span style=\"color: #00af00; text-decoration-color: #00af00\">51</span> │\n",
       "└─────────────────────────────────┴────────────────────────┴───────────────┘\n",
       "</pre>\n"
      ],
      "text/plain": [
       "┏━━━━━━━━━━━━━━━━━━━━━━━━━━━━━━━━━┳━━━━━━━━━━━━━━━━━━━━━━━━┳━━━━━━━━━━━━━━━┓\n",
       "┃\u001b[1m \u001b[0m\u001b[1mLayer (type)                   \u001b[0m\u001b[1m \u001b[0m┃\u001b[1m \u001b[0m\u001b[1mOutput Shape          \u001b[0m\u001b[1m \u001b[0m┃\u001b[1m \u001b[0m\u001b[1m      Param #\u001b[0m\u001b[1m \u001b[0m┃\n",
       "┡━━━━━━━━━━━━━━━━━━━━━━━━━━━━━━━━━╇━━━━━━━━━━━━━━━━━━━━━━━━╇━━━━━━━━━━━━━━━┩\n",
       "│ reshape (\u001b[38;5;33mReshape\u001b[0m)               │ (\u001b[38;5;45mNone\u001b[0m, \u001b[38;5;34m7\u001b[0m, \u001b[38;5;34m1\u001b[0m)           │             \u001b[38;5;34m0\u001b[0m │\n",
       "├─────────────────────────────────┼────────────────────────┼───────────────┤\n",
       "│ lstm (\u001b[38;5;33mLSTM\u001b[0m)                     │ (\u001b[38;5;45mNone\u001b[0m, \u001b[38;5;34m7\u001b[0m, \u001b[38;5;34m50\u001b[0m)          │        \u001b[38;5;34m10,400\u001b[0m │\n",
       "├─────────────────────────────────┼────────────────────────┼───────────────┤\n",
       "│ lstm_1 (\u001b[38;5;33mLSTM\u001b[0m)                   │ (\u001b[38;5;45mNone\u001b[0m, \u001b[38;5;34m50\u001b[0m)             │        \u001b[38;5;34m20,200\u001b[0m │\n",
       "├─────────────────────────────────┼────────────────────────┼───────────────┤\n",
       "│ dropout (\u001b[38;5;33mDropout\u001b[0m)               │ (\u001b[38;5;45mNone\u001b[0m, \u001b[38;5;34m50\u001b[0m)             │             \u001b[38;5;34m0\u001b[0m │\n",
       "├─────────────────────────────────┼────────────────────────┼───────────────┤\n",
       "│ dense (\u001b[38;5;33mDense\u001b[0m)                   │ (\u001b[38;5;45mNone\u001b[0m, \u001b[38;5;34m1\u001b[0m)              │            \u001b[38;5;34m51\u001b[0m │\n",
       "└─────────────────────────────────┴────────────────────────┴───────────────┘\n"
      ]
     },
     "metadata": {},
     "output_type": "display_data"
    },
    {
     "data": {
      "text/html": [
       "<pre style=\"white-space:pre;overflow-x:auto;line-height:normal;font-family:Menlo,'DejaVu Sans Mono',consolas,'Courier New',monospace\"><span style=\"font-weight: bold\"> Total params: </span><span style=\"color: #00af00; text-decoration-color: #00af00\">30,651</span> (119.73 KB)\n",
       "</pre>\n"
      ],
      "text/plain": [
       "\u001b[1m Total params: \u001b[0m\u001b[38;5;34m30,651\u001b[0m (119.73 KB)\n"
      ]
     },
     "metadata": {},
     "output_type": "display_data"
    },
    {
     "data": {
      "text/html": [
       "<pre style=\"white-space:pre;overflow-x:auto;line-height:normal;font-family:Menlo,'DejaVu Sans Mono',consolas,'Courier New',monospace\"><span style=\"font-weight: bold\"> Trainable params: </span><span style=\"color: #00af00; text-decoration-color: #00af00\">30,651</span> (119.73 KB)\n",
       "</pre>\n"
      ],
      "text/plain": [
       "\u001b[1m Trainable params: \u001b[0m\u001b[38;5;34m30,651\u001b[0m (119.73 KB)\n"
      ]
     },
     "metadata": {},
     "output_type": "display_data"
    },
    {
     "data": {
      "text/html": [
       "<pre style=\"white-space:pre;overflow-x:auto;line-height:normal;font-family:Menlo,'DejaVu Sans Mono',consolas,'Courier New',monospace\"><span style=\"font-weight: bold\"> Non-trainable params: </span><span style=\"color: #00af00; text-decoration-color: #00af00\">0</span> (0.00 B)\n",
       "</pre>\n"
      ],
      "text/plain": [
       "\u001b[1m Non-trainable params: \u001b[0m\u001b[38;5;34m0\u001b[0m (0.00 B)\n"
      ]
     },
     "metadata": {},
     "output_type": "display_data"
    }
   ],
   "source": [
    "model_1.summary()"
   ]
  },
  {
   "cell_type": "code",
   "execution_count": 26,
   "id": "ac3c18f3-ddfd-4f4b-83b3-9e6338046ab9",
   "metadata": {},
   "outputs": [],
   "source": [
    "early_stop = EarlyStopping(monitor='val_loss', patience=10, restore_best_weights=True)"
   ]
  },
  {
   "cell_type": "code",
   "execution_count": 27,
   "id": "91c0bf47-3481-4b37-81b3-6be495dc39e9",
   "metadata": {},
   "outputs": [
    {
     "name": "stdout",
     "output_type": "stream",
     "text": [
      "Epoch 1/150\n",
      "\u001b[1m100/100\u001b[0m \u001b[32m━━━━━━━━━━━━━━━━━━━━\u001b[0m\u001b[37m\u001b[0m \u001b[1m4s\u001b[0m 11ms/step - loss: 0.0106 - root_mean_squared_error: 0.1028 - val_loss: 0.0029 - val_root_mean_squared_error: 0.0536\n",
      "Epoch 2/150\n",
      "\u001b[1m100/100\u001b[0m \u001b[32m━━━━━━━━━━━━━━━━━━━━\u001b[0m\u001b[37m\u001b[0m \u001b[1m1s\u001b[0m 7ms/step - loss: 0.0013 - root_mean_squared_error: 0.0356 - val_loss: 0.0035 - val_root_mean_squared_error: 0.0593\n",
      "Epoch 3/150\n",
      "\u001b[1m100/100\u001b[0m \u001b[32m━━━━━━━━━━━━━━━━━━━━\u001b[0m\u001b[37m\u001b[0m \u001b[1m1s\u001b[0m 6ms/step - loss: 0.0011 - root_mean_squared_error: 0.0331 - val_loss: 0.0067 - val_root_mean_squared_error: 0.0819\n",
      "Epoch 4/150\n",
      "\u001b[1m100/100\u001b[0m \u001b[32m━━━━━━━━━━━━━━━━━━━━\u001b[0m\u001b[37m\u001b[0m \u001b[1m1s\u001b[0m 6ms/step - loss: 0.0011 - root_mean_squared_error: 0.0331 - val_loss: 0.0103 - val_root_mean_squared_error: 0.1014\n",
      "Epoch 5/150\n",
      "\u001b[1m100/100\u001b[0m \u001b[32m━━━━━━━━━━━━━━━━━━━━\u001b[0m\u001b[37m\u001b[0m \u001b[1m1s\u001b[0m 6ms/step - loss: 0.0011 - root_mean_squared_error: 0.0324 - val_loss: 0.0123 - val_root_mean_squared_error: 0.1109\n",
      "Epoch 6/150\n",
      "\u001b[1m100/100\u001b[0m \u001b[32m━━━━━━━━━━━━━━━━━━━━\u001b[0m\u001b[37m\u001b[0m \u001b[1m1s\u001b[0m 5ms/step - loss: 0.0012 - root_mean_squared_error: 0.0341 - val_loss: 0.0033 - val_root_mean_squared_error: 0.0573\n",
      "Epoch 7/150\n",
      "\u001b[1m100/100\u001b[0m \u001b[32m━━━━━━━━━━━━━━━━━━━━\u001b[0m\u001b[37m\u001b[0m \u001b[1m1s\u001b[0m 6ms/step - loss: 9.4327e-04 - root_mean_squared_error: 0.0307 - val_loss: 0.0051 - val_root_mean_squared_error: 0.0717\n",
      "Epoch 8/150\n",
      "\u001b[1m100/100\u001b[0m \u001b[32m━━━━━━━━━━━━━━━━━━━━\u001b[0m\u001b[37m\u001b[0m \u001b[1m1s\u001b[0m 6ms/step - loss: 9.6123e-04 - root_mean_squared_error: 0.0310 - val_loss: 0.0027 - val_root_mean_squared_error: 0.0518\n",
      "Epoch 9/150\n",
      "\u001b[1m100/100\u001b[0m \u001b[32m━━━━━━━━━━━━━━━━━━━━\u001b[0m\u001b[37m\u001b[0m \u001b[1m1s\u001b[0m 6ms/step - loss: 0.0012 - root_mean_squared_error: 0.0341 - val_loss: 0.0099 - val_root_mean_squared_error: 0.0994\n",
      "Epoch 10/150\n",
      "\u001b[1m100/100\u001b[0m \u001b[32m━━━━━━━━━━━━━━━━━━━━\u001b[0m\u001b[37m\u001b[0m \u001b[1m1s\u001b[0m 5ms/step - loss: 9.4679e-04 - root_mean_squared_error: 0.0308 - val_loss: 0.0070 - val_root_mean_squared_error: 0.0838\n",
      "Epoch 11/150\n",
      "\u001b[1m100/100\u001b[0m \u001b[32m━━━━━━━━━━━━━━━━━━━━\u001b[0m\u001b[37m\u001b[0m \u001b[1m1s\u001b[0m 6ms/step - loss: 9.3351e-04 - root_mean_squared_error: 0.0306 - val_loss: 0.0034 - val_root_mean_squared_error: 0.0584\n",
      "Epoch 12/150\n",
      "\u001b[1m100/100\u001b[0m \u001b[32m━━━━━━━━━━━━━━━━━━━━\u001b[0m\u001b[37m\u001b[0m \u001b[1m1s\u001b[0m 6ms/step - loss: 9.2369e-04 - root_mean_squared_error: 0.0304 - val_loss: 0.0104 - val_root_mean_squared_error: 0.1019\n",
      "Epoch 13/150\n",
      "\u001b[1m100/100\u001b[0m \u001b[32m━━━━━━━━━━━━━━━━━━━━\u001b[0m\u001b[37m\u001b[0m \u001b[1m1s\u001b[0m 6ms/step - loss: 9.2485e-04 - root_mean_squared_error: 0.0304 - val_loss: 0.0122 - val_root_mean_squared_error: 0.1106\n",
      "Epoch 14/150\n",
      "\u001b[1m100/100\u001b[0m \u001b[32m━━━━━━━━━━━━━━━━━━━━\u001b[0m\u001b[37m\u001b[0m \u001b[1m1s\u001b[0m 6ms/step - loss: 8.1916e-04 - root_mean_squared_error: 0.0286 - val_loss: 0.0072 - val_root_mean_squared_error: 0.0846\n",
      "Epoch 15/150\n",
      "\u001b[1m100/100\u001b[0m \u001b[32m━━━━━━━━━━━━━━━━━━━━\u001b[0m\u001b[37m\u001b[0m \u001b[1m1s\u001b[0m 6ms/step - loss: 7.8673e-04 - root_mean_squared_error: 0.0280 - val_loss: 0.0036 - val_root_mean_squared_error: 0.0600\n",
      "Epoch 16/150\n",
      "\u001b[1m100/100\u001b[0m \u001b[32m━━━━━━━━━━━━━━━━━━━━\u001b[0m\u001b[37m\u001b[0m \u001b[1m1s\u001b[0m 6ms/step - loss: 8.2831e-04 - root_mean_squared_error: 0.0288 - val_loss: 0.0037 - val_root_mean_squared_error: 0.0611\n",
      "Epoch 17/150\n",
      "\u001b[1m100/100\u001b[0m \u001b[32m━━━━━━━━━━━━━━━━━━━━\u001b[0m\u001b[37m\u001b[0m \u001b[1m1s\u001b[0m 6ms/step - loss: 7.4234e-04 - root_mean_squared_error: 0.0272 - val_loss: 0.0019 - val_root_mean_squared_error: 0.0439\n",
      "Epoch 18/150\n",
      "\u001b[1m100/100\u001b[0m \u001b[32m━━━━━━━━━━━━━━━━━━━━\u001b[0m\u001b[37m\u001b[0m \u001b[1m1s\u001b[0m 6ms/step - loss: 7.5310e-04 - root_mean_squared_error: 0.0274 - val_loss: 0.0048 - val_root_mean_squared_error: 0.0694\n",
      "Epoch 19/150\n",
      "\u001b[1m100/100\u001b[0m \u001b[32m━━━━━━━━━━━━━━━━━━━━\u001b[0m\u001b[37m\u001b[0m \u001b[1m1s\u001b[0m 5ms/step - loss: 7.9701e-04 - root_mean_squared_error: 0.0282 - val_loss: 0.0023 - val_root_mean_squared_error: 0.0481\n",
      "Epoch 20/150\n",
      "\u001b[1m100/100\u001b[0m \u001b[32m━━━━━━━━━━━━━━━━━━━━\u001b[0m\u001b[37m\u001b[0m \u001b[1m1s\u001b[0m 5ms/step - loss: 7.2257e-04 - root_mean_squared_error: 0.0269 - val_loss: 0.0055 - val_root_mean_squared_error: 0.0738\n",
      "Epoch 21/150\n",
      "\u001b[1m100/100\u001b[0m \u001b[32m━━━━━━━━━━━━━━━━━━━━\u001b[0m\u001b[37m\u001b[0m \u001b[1m1s\u001b[0m 6ms/step - loss: 7.2117e-04 - root_mean_squared_error: 0.0269 - val_loss: 0.0058 - val_root_mean_squared_error: 0.0759\n",
      "Epoch 22/150\n",
      "\u001b[1m100/100\u001b[0m \u001b[32m━━━━━━━━━━━━━━━━━━━━\u001b[0m\u001b[37m\u001b[0m \u001b[1m1s\u001b[0m 6ms/step - loss: 6.3869e-04 - root_mean_squared_error: 0.0253 - val_loss: 0.0079 - val_root_mean_squared_error: 0.0891\n",
      "Epoch 23/150\n",
      "\u001b[1m100/100\u001b[0m \u001b[32m━━━━━━━━━━━━━━━━━━━━\u001b[0m\u001b[37m\u001b[0m \u001b[1m1s\u001b[0m 6ms/step - loss: 6.5320e-04 - root_mean_squared_error: 0.0256 - val_loss: 0.0018 - val_root_mean_squared_error: 0.0420\n",
      "Epoch 24/150\n",
      "\u001b[1m100/100\u001b[0m \u001b[32m━━━━━━━━━━━━━━━━━━━━\u001b[0m\u001b[37m\u001b[0m \u001b[1m1s\u001b[0m 5ms/step - loss: 6.9669e-04 - root_mean_squared_error: 0.0264 - val_loss: 0.0044 - val_root_mean_squared_error: 0.0661\n",
      "Epoch 25/150\n",
      "\u001b[1m100/100\u001b[0m \u001b[32m━━━━━━━━━━━━━━━━━━━━\u001b[0m\u001b[37m\u001b[0m \u001b[1m1s\u001b[0m 5ms/step - loss: 6.5662e-04 - root_mean_squared_error: 0.0256 - val_loss: 0.0077 - val_root_mean_squared_error: 0.0876\n",
      "Epoch 26/150\n",
      "\u001b[1m100/100\u001b[0m \u001b[32m━━━━━━━━━━━━━━━━━━━━\u001b[0m\u001b[37m\u001b[0m \u001b[1m1s\u001b[0m 5ms/step - loss: 6.3521e-04 - root_mean_squared_error: 0.0252 - val_loss: 0.0096 - val_root_mean_squared_error: 0.0982\n",
      "Epoch 27/150\n",
      "\u001b[1m100/100\u001b[0m \u001b[32m━━━━━━━━━━━━━━━━━━━━\u001b[0m\u001b[37m\u001b[0m \u001b[1m1s\u001b[0m 5ms/step - loss: 5.8376e-04 - root_mean_squared_error: 0.0242 - val_loss: 0.0097 - val_root_mean_squared_error: 0.0982\n",
      "Epoch 28/150\n",
      "\u001b[1m100/100\u001b[0m \u001b[32m━━━━━━━━━━━━━━━━━━━━\u001b[0m\u001b[37m\u001b[0m \u001b[1m1s\u001b[0m 6ms/step - loss: 5.9505e-04 - root_mean_squared_error: 0.0244 - val_loss: 0.0022 - val_root_mean_squared_error: 0.0472\n",
      "Epoch 29/150\n",
      "\u001b[1m100/100\u001b[0m \u001b[32m━━━━━━━━━━━━━━━━━━━━\u001b[0m\u001b[37m\u001b[0m \u001b[1m1s\u001b[0m 6ms/step - loss: 6.0891e-04 - root_mean_squared_error: 0.0247 - val_loss: 0.0046 - val_root_mean_squared_error: 0.0676\n",
      "Epoch 30/150\n",
      "\u001b[1m100/100\u001b[0m \u001b[32m━━━━━━━━━━━━━━━━━━━━\u001b[0m\u001b[37m\u001b[0m \u001b[1m1s\u001b[0m 6ms/step - loss: 7.3816e-04 - root_mean_squared_error: 0.0272 - val_loss: 0.0049 - val_root_mean_squared_error: 0.0700\n",
      "Epoch 31/150\n",
      "\u001b[1m100/100\u001b[0m \u001b[32m━━━━━━━━━━━━━━━━━━━━\u001b[0m\u001b[37m\u001b[0m \u001b[1m1s\u001b[0m 6ms/step - loss: 5.9368e-04 - root_mean_squared_error: 0.0244 - val_loss: 0.0041 - val_root_mean_squared_error: 0.0644\n",
      "Epoch 32/150\n",
      "\u001b[1m100/100\u001b[0m \u001b[32m━━━━━━━━━━━━━━━━━━━━\u001b[0m\u001b[37m\u001b[0m \u001b[1m1s\u001b[0m 6ms/step - loss: 5.5482e-04 - root_mean_squared_error: 0.0236 - val_loss: 0.0015 - val_root_mean_squared_error: 0.0383\n",
      "Epoch 33/150\n",
      "\u001b[1m100/100\u001b[0m \u001b[32m━━━━━━━━━━━━━━━━━━━━\u001b[0m\u001b[37m\u001b[0m \u001b[1m1s\u001b[0m 5ms/step - loss: 5.9297e-04 - root_mean_squared_error: 0.0244 - val_loss: 0.0021 - val_root_mean_squared_error: 0.0461\n",
      "Epoch 34/150\n",
      "\u001b[1m100/100\u001b[0m \u001b[32m━━━━━━━━━━━━━━━━━━━━\u001b[0m\u001b[37m\u001b[0m \u001b[1m1s\u001b[0m 6ms/step - loss: 6.3210e-04 - root_mean_squared_error: 0.0251 - val_loss: 0.0031 - val_root_mean_squared_error: 0.0556\n",
      "Epoch 35/150\n",
      "\u001b[1m100/100\u001b[0m \u001b[32m━━━━━━━━━━━━━━━━━━━━\u001b[0m\u001b[37m\u001b[0m \u001b[1m1s\u001b[0m 6ms/step - loss: 6.4432e-04 - root_mean_squared_error: 0.0254 - val_loss: 0.0020 - val_root_mean_squared_error: 0.0450\n",
      "Epoch 36/150\n",
      "\u001b[1m100/100\u001b[0m \u001b[32m━━━━━━━━━━━━━━━━━━━━\u001b[0m\u001b[37m\u001b[0m \u001b[1m1s\u001b[0m 6ms/step - loss: 6.2376e-04 - root_mean_squared_error: 0.0250 - val_loss: 0.0014 - val_root_mean_squared_error: 0.0372\n",
      "Epoch 37/150\n",
      "\u001b[1m100/100\u001b[0m \u001b[32m━━━━━━━━━━━━━━━━━━━━\u001b[0m\u001b[37m\u001b[0m \u001b[1m1s\u001b[0m 6ms/step - loss: 6.0338e-04 - root_mean_squared_error: 0.0246 - val_loss: 0.0011 - val_root_mean_squared_error: 0.0332\n",
      "Epoch 38/150\n",
      "\u001b[1m100/100\u001b[0m \u001b[32m━━━━━━━━━━━━━━━━━━━━\u001b[0m\u001b[37m\u001b[0m \u001b[1m1s\u001b[0m 6ms/step - loss: 4.8938e-04 - root_mean_squared_error: 0.0221 - val_loss: 0.0020 - val_root_mean_squared_error: 0.0446\n",
      "Epoch 39/150\n",
      "\u001b[1m100/100\u001b[0m \u001b[32m━━━━━━━━━━━━━━━━━━━━\u001b[0m\u001b[37m\u001b[0m \u001b[1m1s\u001b[0m 5ms/step - loss: 5.1387e-04 - root_mean_squared_error: 0.0227 - val_loss: 0.0042 - val_root_mean_squared_error: 0.0650\n",
      "Epoch 40/150\n",
      "\u001b[1m100/100\u001b[0m \u001b[32m━━━━━━━━━━━━━━━━━━━━\u001b[0m\u001b[37m\u001b[0m \u001b[1m1s\u001b[0m 6ms/step - loss: 5.3463e-04 - root_mean_squared_error: 0.0231 - val_loss: 0.0010 - val_root_mean_squared_error: 0.0318\n",
      "Epoch 41/150\n",
      "\u001b[1m100/100\u001b[0m \u001b[32m━━━━━━━━━━━━━━━━━━━━\u001b[0m\u001b[37m\u001b[0m \u001b[1m1s\u001b[0m 6ms/step - loss: 5.5978e-04 - root_mean_squared_error: 0.0237 - val_loss: 0.0021 - val_root_mean_squared_error: 0.0460\n",
      "Epoch 42/150\n",
      "\u001b[1m100/100\u001b[0m \u001b[32m━━━━━━━━━━━━━━━━━━━━\u001b[0m\u001b[37m\u001b[0m \u001b[1m1s\u001b[0m 6ms/step - loss: 5.2092e-04 - root_mean_squared_error: 0.0228 - val_loss: 0.0028 - val_root_mean_squared_error: 0.0526\n",
      "Epoch 43/150\n",
      "\u001b[1m100/100\u001b[0m \u001b[32m━━━━━━━━━━━━━━━━━━━━\u001b[0m\u001b[37m\u001b[0m \u001b[1m1s\u001b[0m 6ms/step - loss: 5.0722e-04 - root_mean_squared_error: 0.0225 - val_loss: 7.8675e-04 - val_root_mean_squared_error: 0.0280\n",
      "Epoch 44/150\n",
      "\u001b[1m100/100\u001b[0m \u001b[32m━━━━━━━━━━━━━━━━━━━━\u001b[0m\u001b[37m\u001b[0m \u001b[1m1s\u001b[0m 6ms/step - loss: 5.5206e-04 - root_mean_squared_error: 0.0235 - val_loss: 0.0011 - val_root_mean_squared_error: 0.0338\n",
      "Epoch 45/150\n",
      "\u001b[1m100/100\u001b[0m \u001b[32m━━━━━━━━━━━━━━━━━━━━\u001b[0m\u001b[37m\u001b[0m \u001b[1m1s\u001b[0m 6ms/step - loss: 5.4734e-04 - root_mean_squared_error: 0.0234 - val_loss: 0.0021 - val_root_mean_squared_error: 0.0454\n",
      "Epoch 46/150\n",
      "\u001b[1m100/100\u001b[0m \u001b[32m━━━━━━━━━━━━━━━━━━━━\u001b[0m\u001b[37m\u001b[0m \u001b[1m1s\u001b[0m 5ms/step - loss: 5.9013e-04 - root_mean_squared_error: 0.0243 - val_loss: 0.0041 - val_root_mean_squared_error: 0.0639\n",
      "Epoch 47/150\n",
      "\u001b[1m100/100\u001b[0m \u001b[32m━━━━━━━━━━━━━━━━━━━━\u001b[0m\u001b[37m\u001b[0m \u001b[1m1s\u001b[0m 5ms/step - loss: 5.6557e-04 - root_mean_squared_error: 0.0238 - val_loss: 0.0055 - val_root_mean_squared_error: 0.0744\n",
      "Epoch 48/150\n",
      "\u001b[1m100/100\u001b[0m \u001b[32m━━━━━━━━━━━━━━━━━━━━\u001b[0m\u001b[37m\u001b[0m \u001b[1m1s\u001b[0m 5ms/step - loss: 5.3584e-04 - root_mean_squared_error: 0.0231 - val_loss: 0.0041 - val_root_mean_squared_error: 0.0638\n",
      "Epoch 49/150\n",
      "\u001b[1m100/100\u001b[0m \u001b[32m━━━━━━━━━━━━━━━━━━━━\u001b[0m\u001b[37m\u001b[0m \u001b[1m1s\u001b[0m 6ms/step - loss: 5.1212e-04 - root_mean_squared_error: 0.0226 - val_loss: 0.0036 - val_root_mean_squared_error: 0.0599\n",
      "Epoch 50/150\n",
      "\u001b[1m100/100\u001b[0m \u001b[32m━━━━━━━━━━━━━━━━━━━━\u001b[0m\u001b[37m\u001b[0m \u001b[1m1s\u001b[0m 5ms/step - loss: 4.6891e-04 - root_mean_squared_error: 0.0217 - val_loss: 0.0039 - val_root_mean_squared_error: 0.0623\n",
      "Epoch 51/150\n",
      "\u001b[1m100/100\u001b[0m \u001b[32m━━━━━━━━━━━━━━━━━━━━\u001b[0m\u001b[37m\u001b[0m \u001b[1m1s\u001b[0m 6ms/step - loss: 4.9796e-04 - root_mean_squared_error: 0.0223 - val_loss: 0.0014 - val_root_mean_squared_error: 0.0379\n",
      "Epoch 52/150\n",
      "\u001b[1m100/100\u001b[0m \u001b[32m━━━━━━━━━━━━━━━━━━━━\u001b[0m\u001b[37m\u001b[0m \u001b[1m1s\u001b[0m 6ms/step - loss: 5.2406e-04 - root_mean_squared_error: 0.0229 - val_loss: 7.0375e-04 - val_root_mean_squared_error: 0.0265\n",
      "Epoch 53/150\n",
      "\u001b[1m100/100\u001b[0m \u001b[32m━━━━━━━━━━━━━━━━━━━━\u001b[0m\u001b[37m\u001b[0m \u001b[1m1s\u001b[0m 5ms/step - loss: 4.9407e-04 - root_mean_squared_error: 0.0222 - val_loss: 0.0047 - val_root_mean_squared_error: 0.0686\n",
      "Epoch 54/150\n",
      "\u001b[1m100/100\u001b[0m \u001b[32m━━━━━━━━━━━━━━━━━━━━\u001b[0m\u001b[37m\u001b[0m \u001b[1m1s\u001b[0m 6ms/step - loss: 5.2255e-04 - root_mean_squared_error: 0.0229 - val_loss: 7.3444e-04 - val_root_mean_squared_error: 0.0271\n",
      "Epoch 55/150\n",
      "\u001b[1m100/100\u001b[0m \u001b[32m━━━━━━━━━━━━━━━━━━━━\u001b[0m\u001b[37m\u001b[0m \u001b[1m1s\u001b[0m 5ms/step - loss: 5.2177e-04 - root_mean_squared_error: 0.0228 - val_loss: 7.7042e-04 - val_root_mean_squared_error: 0.0278\n",
      "Epoch 56/150\n",
      "\u001b[1m100/100\u001b[0m \u001b[32m━━━━━━━━━━━━━━━━━━━━\u001b[0m\u001b[37m\u001b[0m \u001b[1m1s\u001b[0m 6ms/step - loss: 5.1198e-04 - root_mean_squared_error: 0.0226 - val_loss: 0.0018 - val_root_mean_squared_error: 0.0426\n",
      "Epoch 57/150\n",
      "\u001b[1m100/100\u001b[0m \u001b[32m━━━━━━━━━━━━━━━━━━━━\u001b[0m\u001b[37m\u001b[0m \u001b[1m1s\u001b[0m 5ms/step - loss: 5.8494e-04 - root_mean_squared_error: 0.0242 - val_loss: 0.0039 - val_root_mean_squared_error: 0.0621\n",
      "Epoch 58/150\n",
      "\u001b[1m100/100\u001b[0m \u001b[32m━━━━━━━━━━━━━━━━━━━━\u001b[0m\u001b[37m\u001b[0m \u001b[1m1s\u001b[0m 6ms/step - loss: 4.7826e-04 - root_mean_squared_error: 0.0219 - val_loss: 9.9819e-04 - val_root_mean_squared_error: 0.0316\n",
      "Epoch 59/150\n",
      "\u001b[1m100/100\u001b[0m \u001b[32m━━━━━━━━━━━━━━━━━━━━\u001b[0m\u001b[37m\u001b[0m \u001b[1m1s\u001b[0m 5ms/step - loss: 4.9377e-04 - root_mean_squared_error: 0.0222 - val_loss: 0.0015 - val_root_mean_squared_error: 0.0389\n",
      "Epoch 60/150\n",
      "\u001b[1m100/100\u001b[0m \u001b[32m━━━━━━━━━━━━━━━━━━━━\u001b[0m\u001b[37m\u001b[0m \u001b[1m1s\u001b[0m 5ms/step - loss: 4.6015e-04 - root_mean_squared_error: 0.0215 - val_loss: 0.0018 - val_root_mean_squared_error: 0.0419\n",
      "Epoch 61/150\n",
      "\u001b[1m100/100\u001b[0m \u001b[32m━━━━━━━━━━━━━━━━━━━━\u001b[0m\u001b[37m\u001b[0m \u001b[1m1s\u001b[0m 6ms/step - loss: 4.8017e-04 - root_mean_squared_error: 0.0219 - val_loss: 0.0028 - val_root_mean_squared_error: 0.0528\n",
      "Epoch 62/150\n",
      "\u001b[1m100/100\u001b[0m \u001b[32m━━━━━━━━━━━━━━━━━━━━\u001b[0m\u001b[37m\u001b[0m \u001b[1m1s\u001b[0m 6ms/step - loss: 4.9248e-04 - root_mean_squared_error: 0.0222 - val_loss: 0.0021 - val_root_mean_squared_error: 0.0455\n"
     ]
    }
   ],
   "source": [
    "history = model_1.fit(train_windows, train_labels, \n",
    "                    epochs=150, \n",
    "                    batch_size=32, \n",
    "                    validation_data=(test_windows, test_labels),\n",
    "                    callbacks=[early_stop, create_model_checkpoint(model_name=model_1.name + '.keras')])"
   ]
  },
  {
   "cell_type": "markdown",
   "id": "cba15b10-afe0-4052-9309-0129b8fe27b3",
   "metadata": {},
   "source": [
    "#### Model 2: GRU"
   ]
  },
  {
   "cell_type": "code",
   "execution_count": 28,
   "id": "669491ea-ba0d-431b-aa9f-ed3c6dcd27e5",
   "metadata": {},
   "outputs": [
    {
     "name": "stderr",
     "output_type": "stream",
     "text": [
      "C:\\anaconda3\\envs\\myproject\\lib\\site-packages\\keras\\src\\layers\\reshaping\\reshape.py:39: UserWarning: Do not pass an `input_shape`/`input_dim` argument to a layer. When using Sequential models, prefer using an `Input(shape)` object as the first layer in the model instead.\n",
      "  super().__init__(**kwargs)\n"
     ]
    }
   ],
   "source": [
    "model_2 = Sequential(name='model2_GRU')\n",
    "\n",
    "model_2.add(Reshape((WINDOW_SIZE, 1), input_shape=(WINDOW_SIZE,)))\n",
    "model_2.add(GRU(50, activation='tanh', return_sequences=True))\n",
    "model_2.add(Dropout(0.2))\n",
    "\n",
    "model_2.add(GRU(50, activation='tanh', return_sequences=True))\n",
    "model_2.add(Dropout(0.2))\n",
    "\n",
    "model_2.add(GRU(50, activation='tanh', return_sequences=True))\n",
    "model_2.add(Dropout(0.2))\n",
    "\n",
    "model_2.add(GRU(50, activation='tanh'))\n",
    "model_2.add(Dropout(0.2))\n",
    "\n",
    "model_2.add(Dense(HORIZON))\n",
    "\n",
    "model_2.compile(loss='mean_squared_error', \n",
    "              optimizer='adam',\n",
    "              metrics=[tf.keras.metrics.RootMeanSquaredError()])"
   ]
  },
  {
   "cell_type": "code",
   "execution_count": 29,
   "id": "9b19d4e4-76d5-40dc-a792-5ada4760f52e",
   "metadata": {},
   "outputs": [
    {
     "data": {
      "text/html": [
       "<pre style=\"white-space:pre;overflow-x:auto;line-height:normal;font-family:Menlo,'DejaVu Sans Mono',consolas,'Courier New',monospace\"><span style=\"font-weight: bold\">Model: \"model2_GRU\"</span>\n",
       "</pre>\n"
      ],
      "text/plain": [
       "\u001b[1mModel: \"model2_GRU\"\u001b[0m\n"
      ]
     },
     "metadata": {},
     "output_type": "display_data"
    },
    {
     "data": {
      "text/html": [
       "<pre style=\"white-space:pre;overflow-x:auto;line-height:normal;font-family:Menlo,'DejaVu Sans Mono',consolas,'Courier New',monospace\">┏━━━━━━━━━━━━━━━━━━━━━━━━━━━━━━━━━┳━━━━━━━━━━━━━━━━━━━━━━━━┳━━━━━━━━━━━━━━━┓\n",
       "┃<span style=\"font-weight: bold\"> Layer (type)                    </span>┃<span style=\"font-weight: bold\"> Output Shape           </span>┃<span style=\"font-weight: bold\">       Param # </span>┃\n",
       "┡━━━━━━━━━━━━━━━━━━━━━━━━━━━━━━━━━╇━━━━━━━━━━━━━━━━━━━━━━━━╇━━━━━━━━━━━━━━━┩\n",
       "│ reshape_1 (<span style=\"color: #0087ff; text-decoration-color: #0087ff\">Reshape</span>)             │ (<span style=\"color: #00d7ff; text-decoration-color: #00d7ff\">None</span>, <span style=\"color: #00af00; text-decoration-color: #00af00\">7</span>, <span style=\"color: #00af00; text-decoration-color: #00af00\">1</span>)           │             <span style=\"color: #00af00; text-decoration-color: #00af00\">0</span> │\n",
       "├─────────────────────────────────┼────────────────────────┼───────────────┤\n",
       "│ gru (<span style=\"color: #0087ff; text-decoration-color: #0087ff\">GRU</span>)                       │ (<span style=\"color: #00d7ff; text-decoration-color: #00d7ff\">None</span>, <span style=\"color: #00af00; text-decoration-color: #00af00\">7</span>, <span style=\"color: #00af00; text-decoration-color: #00af00\">50</span>)          │         <span style=\"color: #00af00; text-decoration-color: #00af00\">7,950</span> │\n",
       "├─────────────────────────────────┼────────────────────────┼───────────────┤\n",
       "│ dropout_1 (<span style=\"color: #0087ff; text-decoration-color: #0087ff\">Dropout</span>)             │ (<span style=\"color: #00d7ff; text-decoration-color: #00d7ff\">None</span>, <span style=\"color: #00af00; text-decoration-color: #00af00\">7</span>, <span style=\"color: #00af00; text-decoration-color: #00af00\">50</span>)          │             <span style=\"color: #00af00; text-decoration-color: #00af00\">0</span> │\n",
       "├─────────────────────────────────┼────────────────────────┼───────────────┤\n",
       "│ gru_1 (<span style=\"color: #0087ff; text-decoration-color: #0087ff\">GRU</span>)                     │ (<span style=\"color: #00d7ff; text-decoration-color: #00d7ff\">None</span>, <span style=\"color: #00af00; text-decoration-color: #00af00\">7</span>, <span style=\"color: #00af00; text-decoration-color: #00af00\">50</span>)          │        <span style=\"color: #00af00; text-decoration-color: #00af00\">15,300</span> │\n",
       "├─────────────────────────────────┼────────────────────────┼───────────────┤\n",
       "│ dropout_2 (<span style=\"color: #0087ff; text-decoration-color: #0087ff\">Dropout</span>)             │ (<span style=\"color: #00d7ff; text-decoration-color: #00d7ff\">None</span>, <span style=\"color: #00af00; text-decoration-color: #00af00\">7</span>, <span style=\"color: #00af00; text-decoration-color: #00af00\">50</span>)          │             <span style=\"color: #00af00; text-decoration-color: #00af00\">0</span> │\n",
       "├─────────────────────────────────┼────────────────────────┼───────────────┤\n",
       "│ gru_2 (<span style=\"color: #0087ff; text-decoration-color: #0087ff\">GRU</span>)                     │ (<span style=\"color: #00d7ff; text-decoration-color: #00d7ff\">None</span>, <span style=\"color: #00af00; text-decoration-color: #00af00\">7</span>, <span style=\"color: #00af00; text-decoration-color: #00af00\">50</span>)          │        <span style=\"color: #00af00; text-decoration-color: #00af00\">15,300</span> │\n",
       "├─────────────────────────────────┼────────────────────────┼───────────────┤\n",
       "│ dropout_3 (<span style=\"color: #0087ff; text-decoration-color: #0087ff\">Dropout</span>)             │ (<span style=\"color: #00d7ff; text-decoration-color: #00d7ff\">None</span>, <span style=\"color: #00af00; text-decoration-color: #00af00\">7</span>, <span style=\"color: #00af00; text-decoration-color: #00af00\">50</span>)          │             <span style=\"color: #00af00; text-decoration-color: #00af00\">0</span> │\n",
       "├─────────────────────────────────┼────────────────────────┼───────────────┤\n",
       "│ gru_3 (<span style=\"color: #0087ff; text-decoration-color: #0087ff\">GRU</span>)                     │ (<span style=\"color: #00d7ff; text-decoration-color: #00d7ff\">None</span>, <span style=\"color: #00af00; text-decoration-color: #00af00\">50</span>)             │        <span style=\"color: #00af00; text-decoration-color: #00af00\">15,300</span> │\n",
       "├─────────────────────────────────┼────────────────────────┼───────────────┤\n",
       "│ dropout_4 (<span style=\"color: #0087ff; text-decoration-color: #0087ff\">Dropout</span>)             │ (<span style=\"color: #00d7ff; text-decoration-color: #00d7ff\">None</span>, <span style=\"color: #00af00; text-decoration-color: #00af00\">50</span>)             │             <span style=\"color: #00af00; text-decoration-color: #00af00\">0</span> │\n",
       "├─────────────────────────────────┼────────────────────────┼───────────────┤\n",
       "│ dense_1 (<span style=\"color: #0087ff; text-decoration-color: #0087ff\">Dense</span>)                 │ (<span style=\"color: #00d7ff; text-decoration-color: #00d7ff\">None</span>, <span style=\"color: #00af00; text-decoration-color: #00af00\">1</span>)              │            <span style=\"color: #00af00; text-decoration-color: #00af00\">51</span> │\n",
       "└─────────────────────────────────┴────────────────────────┴───────────────┘\n",
       "</pre>\n"
      ],
      "text/plain": [
       "┏━━━━━━━━━━━━━━━━━━━━━━━━━━━━━━━━━┳━━━━━━━━━━━━━━━━━━━━━━━━┳━━━━━━━━━━━━━━━┓\n",
       "┃\u001b[1m \u001b[0m\u001b[1mLayer (type)                   \u001b[0m\u001b[1m \u001b[0m┃\u001b[1m \u001b[0m\u001b[1mOutput Shape          \u001b[0m\u001b[1m \u001b[0m┃\u001b[1m \u001b[0m\u001b[1m      Param #\u001b[0m\u001b[1m \u001b[0m┃\n",
       "┡━━━━━━━━━━━━━━━━━━━━━━━━━━━━━━━━━╇━━━━━━━━━━━━━━━━━━━━━━━━╇━━━━━━━━━━━━━━━┩\n",
       "│ reshape_1 (\u001b[38;5;33mReshape\u001b[0m)             │ (\u001b[38;5;45mNone\u001b[0m, \u001b[38;5;34m7\u001b[0m, \u001b[38;5;34m1\u001b[0m)           │             \u001b[38;5;34m0\u001b[0m │\n",
       "├─────────────────────────────────┼────────────────────────┼───────────────┤\n",
       "│ gru (\u001b[38;5;33mGRU\u001b[0m)                       │ (\u001b[38;5;45mNone\u001b[0m, \u001b[38;5;34m7\u001b[0m, \u001b[38;5;34m50\u001b[0m)          │         \u001b[38;5;34m7,950\u001b[0m │\n",
       "├─────────────────────────────────┼────────────────────────┼───────────────┤\n",
       "│ dropout_1 (\u001b[38;5;33mDropout\u001b[0m)             │ (\u001b[38;5;45mNone\u001b[0m, \u001b[38;5;34m7\u001b[0m, \u001b[38;5;34m50\u001b[0m)          │             \u001b[38;5;34m0\u001b[0m │\n",
       "├─────────────────────────────────┼────────────────────────┼───────────────┤\n",
       "│ gru_1 (\u001b[38;5;33mGRU\u001b[0m)                     │ (\u001b[38;5;45mNone\u001b[0m, \u001b[38;5;34m7\u001b[0m, \u001b[38;5;34m50\u001b[0m)          │        \u001b[38;5;34m15,300\u001b[0m │\n",
       "├─────────────────────────────────┼────────────────────────┼───────────────┤\n",
       "│ dropout_2 (\u001b[38;5;33mDropout\u001b[0m)             │ (\u001b[38;5;45mNone\u001b[0m, \u001b[38;5;34m7\u001b[0m, \u001b[38;5;34m50\u001b[0m)          │             \u001b[38;5;34m0\u001b[0m │\n",
       "├─────────────────────────────────┼────────────────────────┼───────────────┤\n",
       "│ gru_2 (\u001b[38;5;33mGRU\u001b[0m)                     │ (\u001b[38;5;45mNone\u001b[0m, \u001b[38;5;34m7\u001b[0m, \u001b[38;5;34m50\u001b[0m)          │        \u001b[38;5;34m15,300\u001b[0m │\n",
       "├─────────────────────────────────┼────────────────────────┼───────────────┤\n",
       "│ dropout_3 (\u001b[38;5;33mDropout\u001b[0m)             │ (\u001b[38;5;45mNone\u001b[0m, \u001b[38;5;34m7\u001b[0m, \u001b[38;5;34m50\u001b[0m)          │             \u001b[38;5;34m0\u001b[0m │\n",
       "├─────────────────────────────────┼────────────────────────┼───────────────┤\n",
       "│ gru_3 (\u001b[38;5;33mGRU\u001b[0m)                     │ (\u001b[38;5;45mNone\u001b[0m, \u001b[38;5;34m50\u001b[0m)             │        \u001b[38;5;34m15,300\u001b[0m │\n",
       "├─────────────────────────────────┼────────────────────────┼───────────────┤\n",
       "│ dropout_4 (\u001b[38;5;33mDropout\u001b[0m)             │ (\u001b[38;5;45mNone\u001b[0m, \u001b[38;5;34m50\u001b[0m)             │             \u001b[38;5;34m0\u001b[0m │\n",
       "├─────────────────────────────────┼────────────────────────┼───────────────┤\n",
       "│ dense_1 (\u001b[38;5;33mDense\u001b[0m)                 │ (\u001b[38;5;45mNone\u001b[0m, \u001b[38;5;34m1\u001b[0m)              │            \u001b[38;5;34m51\u001b[0m │\n",
       "└─────────────────────────────────┴────────────────────────┴───────────────┘\n"
      ]
     },
     "metadata": {},
     "output_type": "display_data"
    },
    {
     "data": {
      "text/html": [
       "<pre style=\"white-space:pre;overflow-x:auto;line-height:normal;font-family:Menlo,'DejaVu Sans Mono',consolas,'Courier New',monospace\"><span style=\"font-weight: bold\"> Total params: </span><span style=\"color: #00af00; text-decoration-color: #00af00\">53,901</span> (210.55 KB)\n",
       "</pre>\n"
      ],
      "text/plain": [
       "\u001b[1m Total params: \u001b[0m\u001b[38;5;34m53,901\u001b[0m (210.55 KB)\n"
      ]
     },
     "metadata": {},
     "output_type": "display_data"
    },
    {
     "data": {
      "text/html": [
       "<pre style=\"white-space:pre;overflow-x:auto;line-height:normal;font-family:Menlo,'DejaVu Sans Mono',consolas,'Courier New',monospace\"><span style=\"font-weight: bold\"> Trainable params: </span><span style=\"color: #00af00; text-decoration-color: #00af00\">53,901</span> (210.55 KB)\n",
       "</pre>\n"
      ],
      "text/plain": [
       "\u001b[1m Trainable params: \u001b[0m\u001b[38;5;34m53,901\u001b[0m (210.55 KB)\n"
      ]
     },
     "metadata": {},
     "output_type": "display_data"
    },
    {
     "data": {
      "text/html": [
       "<pre style=\"white-space:pre;overflow-x:auto;line-height:normal;font-family:Menlo,'DejaVu Sans Mono',consolas,'Courier New',monospace\"><span style=\"font-weight: bold\"> Non-trainable params: </span><span style=\"color: #00af00; text-decoration-color: #00af00\">0</span> (0.00 B)\n",
       "</pre>\n"
      ],
      "text/plain": [
       "\u001b[1m Non-trainable params: \u001b[0m\u001b[38;5;34m0\u001b[0m (0.00 B)\n"
      ]
     },
     "metadata": {},
     "output_type": "display_data"
    }
   ],
   "source": [
    "model_2.summary()"
   ]
  },
  {
   "cell_type": "code",
   "execution_count": 30,
   "id": "07117636-c76b-434c-810d-993c145cf165",
   "metadata": {},
   "outputs": [],
   "source": [
    "early_stop = EarlyStopping(monitor='val_loss', patience=10, restore_best_weights=True)"
   ]
  },
  {
   "cell_type": "code",
   "execution_count": 31,
   "id": "49c34b16-628d-4067-a989-6ad384cda2f9",
   "metadata": {},
   "outputs": [
    {
     "name": "stdout",
     "output_type": "stream",
     "text": [
      "Epoch 1/150\n",
      "\u001b[1m100/100\u001b[0m \u001b[32m━━━━━━━━━━━━━━━━━━━━\u001b[0m\u001b[37m\u001b[0m \u001b[1m8s\u001b[0m 18ms/step - loss: 0.0088 - root_mean_squared_error: 0.0937 - val_loss: 0.0047 - val_root_mean_squared_error: 0.0683\n",
      "Epoch 2/150\n",
      "\u001b[1m100/100\u001b[0m \u001b[32m━━━━━━━━━━━━━━━━━━━━\u001b[0m\u001b[37m\u001b[0m \u001b[1m1s\u001b[0m 11ms/step - loss: 0.0019 - root_mean_squared_error: 0.0439 - val_loss: 0.0029 - val_root_mean_squared_error: 0.0542\n",
      "Epoch 3/150\n",
      "\u001b[1m100/100\u001b[0m \u001b[32m━━━━━━━━━━━━━━━━━━━━\u001b[0m\u001b[37m\u001b[0m \u001b[1m1s\u001b[0m 10ms/step - loss: 0.0016 - root_mean_squared_error: 0.0399 - val_loss: 0.0061 - val_root_mean_squared_error: 0.0783\n",
      "Epoch 4/150\n",
      "\u001b[1m100/100\u001b[0m \u001b[32m━━━━━━━━━━━━━━━━━━━━\u001b[0m\u001b[37m\u001b[0m \u001b[1m1s\u001b[0m 10ms/step - loss: 0.0014 - root_mean_squared_error: 0.0374 - val_loss: 0.0043 - val_root_mean_squared_error: 0.0657\n",
      "Epoch 5/150\n",
      "\u001b[1m100/100\u001b[0m \u001b[32m━━━━━━━━━━━━━━━━━━━━\u001b[0m\u001b[37m\u001b[0m \u001b[1m1s\u001b[0m 10ms/step - loss: 0.0014 - root_mean_squared_error: 0.0380 - val_loss: 0.0031 - val_root_mean_squared_error: 0.0557\n",
      "Epoch 6/150\n",
      "\u001b[1m100/100\u001b[0m \u001b[32m━━━━━━━━━━━━━━━━━━━━\u001b[0m\u001b[37m\u001b[0m \u001b[1m1s\u001b[0m 10ms/step - loss: 0.0015 - root_mean_squared_error: 0.0392 - val_loss: 0.0057 - val_root_mean_squared_error: 0.0753\n",
      "Epoch 7/150\n",
      "\u001b[1m100/100\u001b[0m \u001b[32m━━━━━━━━━━━━━━━━━━━━\u001b[0m\u001b[37m\u001b[0m \u001b[1m1s\u001b[0m 10ms/step - loss: 0.0014 - root_mean_squared_error: 0.0372 - val_loss: 0.0239 - val_root_mean_squared_error: 0.1547\n",
      "Epoch 8/150\n",
      "\u001b[1m100/100\u001b[0m \u001b[32m━━━━━━━━━━━━━━━━━━━━\u001b[0m\u001b[37m\u001b[0m \u001b[1m1s\u001b[0m 11ms/step - loss: 0.0015 - root_mean_squared_error: 0.0390 - val_loss: 0.0192 - val_root_mean_squared_error: 0.1384\n",
      "Epoch 9/150\n",
      "\u001b[1m100/100\u001b[0m \u001b[32m━━━━━━━━━━━━━━━━━━━━\u001b[0m\u001b[37m\u001b[0m \u001b[1m1s\u001b[0m 11ms/step - loss: 0.0014 - root_mean_squared_error: 0.0368 - val_loss: 0.0176 - val_root_mean_squared_error: 0.1327\n",
      "Epoch 10/150\n",
      "\u001b[1m100/100\u001b[0m \u001b[32m━━━━━━━━━━━━━━━━━━━━\u001b[0m\u001b[37m\u001b[0m \u001b[1m1s\u001b[0m 10ms/step - loss: 0.0017 - root_mean_squared_error: 0.0407 - val_loss: 0.0066 - val_root_mean_squared_error: 0.0809\n",
      "Epoch 11/150\n",
      "\u001b[1m100/100\u001b[0m \u001b[32m━━━━━━━━━━━━━━━━━━━━\u001b[0m\u001b[37m\u001b[0m \u001b[1m1s\u001b[0m 10ms/step - loss: 0.0013 - root_mean_squared_error: 0.0357 - val_loss: 0.0099 - val_root_mean_squared_error: 0.0997\n",
      "Epoch 12/150\n",
      "\u001b[1m100/100\u001b[0m \u001b[32m━━━━━━━━━━━━━━━━━━━━\u001b[0m\u001b[37m\u001b[0m \u001b[1m1s\u001b[0m 10ms/step - loss: 0.0012 - root_mean_squared_error: 0.0347 - val_loss: 0.0047 - val_root_mean_squared_error: 0.0688\n"
     ]
    }
   ],
   "source": [
    "history = model_2.fit(train_windows, train_labels, \n",
    "                    epochs=150, \n",
    "                    batch_size=32, \n",
    "                    validation_data=(test_windows, test_labels),\n",
    "                    callbacks=[early_stop, create_model_checkpoint(model_name=model_2.name + '.keras')])"
   ]
  },
  {
   "cell_type": "markdown",
   "id": "cbb937f3-051d-4d57-9df9-00243561ce22",
   "metadata": {},
   "source": [
    "### Prediction"
   ]
  },
  {
   "cell_type": "code",
   "execution_count": 32,
   "id": "34af4660-a728-4faa-a13f-c5b773817184",
   "metadata": {},
   "outputs": [
    {
     "name": "stdout",
     "output_type": "stream",
     "text": [
      "\u001b[1m100/100\u001b[0m \u001b[32m━━━━━━━━━━━━━━━━━━━━\u001b[0m\u001b[37m\u001b[0m \u001b[1m1s\u001b[0m 4ms/step   \n",
      "\u001b[1m25/25\u001b[0m \u001b[32m━━━━━━━━━━━━━━━━━━━━\u001b[0m\u001b[37m\u001b[0m \u001b[1m0s\u001b[0m 3ms/step \n",
      "\u001b[1m100/100\u001b[0m \u001b[32m━━━━━━━━━━━━━━━━━━━━\u001b[0m\u001b[37m\u001b[0m \u001b[1m1s\u001b[0m 8ms/step   \n",
      "\u001b[1m25/25\u001b[0m \u001b[32m━━━━━━━━━━━━━━━━━━━━\u001b[0m\u001b[37m\u001b[0m \u001b[1m0s\u001b[0m 4ms/step \n"
     ]
    }
   ],
   "source": [
    "model1_train = model_1.predict(train_windows)\n",
    "model1_test = model_1.predict(test_windows)\n",
    "\n",
    "model2_train = model_2.predict(train_windows)\n",
    "model2_test = model_2.predict(test_windows)"
   ]
  },
  {
   "cell_type": "code",
   "execution_count": 33,
   "id": "6913526d-d01a-46eb-9ffb-7ec879cede44",
   "metadata": {},
   "outputs": [],
   "source": [
    "# Inverse Transformation\n",
    "model1_train_unscaled = scaler.inverse_transform(model1_train)\n",
    "model1_test_unscaled = scaler.inverse_transform(model1_test)\n",
    "\n",
    "model2_train_unscaled = scaler.inverse_transform(model2_train)\n",
    "model2_test_unscaled = scaler.inverse_transform(model2_test)\n",
    "\n",
    "train_labels_unscaled = scaler.inverse_transform(train_labels)\n",
    "test_labels_unscaled = scaler.inverse_transform(test_labels)"
   ]
  },
  {
   "cell_type": "markdown",
   "id": "9ec3ceeb-3180-4c76-93bb-f3b2c9fc4c1a",
   "metadata": {},
   "source": [
    "### Evaluation"
   ]
  },
  {
   "cell_type": "code",
   "execution_count": 34,
   "id": "8a8586c5-7167-43d6-97ea-36ed4e35cb2d",
   "metadata": {},
   "outputs": [],
   "source": [
    "model1_train_rmse = np.sqrt(mean_squared_error(train_labels_unscaled, model1_train_unscaled))\n",
    "model1_test_rmse = np.sqrt(mean_squared_error(test_labels_unscaled, model1_test_unscaled))\n",
    "\n",
    "model2_train_rmse = np.sqrt(mean_squared_error(train_labels_unscaled, model2_train_unscaled))\n",
    "model2_test_rmse = np.sqrt(mean_squared_error(test_labels_unscaled, model2_test_unscaled))"
   ]
  },
  {
   "cell_type": "code",
   "execution_count": 35,
   "id": "2f414c03-50fd-481c-aede-2107c9ca43e9",
   "metadata": {},
   "outputs": [
    {
     "name": "stdout",
     "output_type": "stream",
     "text": [
      "Model 1: LSTM\n",
      "Train RMSE: 872.5832109823475\n",
      "Test RMSE: 1787.711347629696\n",
      "\n",
      "Model 2: GRU\n",
      "Train RMSE: 1534.0228884289597\n",
      "Test RMSE: 3653.4343714830425\n"
     ]
    }
   ],
   "source": [
    "print(f\"Model 1: LSTM\")\n",
    "print(f\"Train RMSE: {model1_train_rmse}\")\n",
    "print(f\"Test RMSE: {model1_test_rmse}\\n\")\n",
    "\n",
    "print(f\"Model 2: GRU\")\n",
    "print(f\"Train RMSE: {model2_train_rmse}\")\n",
    "print(f\"Test RMSE: {model2_test_rmse}\")"
   ]
  },
  {
   "cell_type": "code",
   "execution_count": 36,
   "id": "e70dba9a-ffee-4ad2-a9bd-1c0dbec5dc99",
   "metadata": {},
   "outputs": [],
   "source": [
    "model1_accuracy_diff = abs(model1_train_rmse - model1_test_rmse)\n",
    "model2_accuracy_diff = abs(model2_train_rmse - model2_test_rmse)"
   ]
  },
  {
   "cell_type": "code",
   "execution_count": 37,
   "id": "5d3aed3f-8f03-40f9-9320-d838ee1d01f3",
   "metadata": {},
   "outputs": [
    {
     "data": {
      "image/png": "[encoded data removed]",
      "text/plain": [
       "<Figure size 1400x600 with 2 Axes>"
      ]
     },
     "metadata": {},
     "output_type": "display_data"
    }
   ],
   "source": [
    "plt.figure(figsize=(14, 6))\n",
    "\n",
    "# Plot for Model 1\n",
    "plt.subplot(1, 2, 1)\n",
    "plt.plot(test_labels_unscaled, label=\"Actual\")\n",
    "plt.plot(model1_test_unscaled, label=\"Model 1 Predicted\")\n",
    "plt.title(\"Model 1: Actual vs Predicted\")\n",
    "plt.xlabel(\"Time step\")\n",
    "plt.ylabel(\"Price (USD)\")\n",
    "plt.legend()\n",
    "\n",
    "# Plot for Model 2\n",
    "plt.subplot(1, 2, 2)\n",
    "plt.plot(test_labels_unscaled, label=\"Actual\")\n",
    "plt.plot(model2_test_unscaled, label=\"Model 2 Predicted\")\n",
    "plt.title(\"Model 2: Actual vs Predicted\")\n",
    "plt.xlabel(\"Time step\")\n",
    "plt.legend()\n",
    "\n",
    "plt.tight_layout()\n",
    "plt.show()"
   ]
  },
  {
   "cell_type": "code",
   "execution_count": 38,
   "id": "e598d059-16e4-4097-8958-08ed53b5cf42",
   "metadata": {},
   "outputs": [
    {
     "data": {
      "image/png": "[encoded data removed]",
      "text/plain": [
       "<Figure size 600x500 with 1 Axes>"
      ]
     },
     "metadata": {},
     "output_type": "display_data"
    }
   ],
   "source": [
    "# RMSE values\n",
    "rmse_values = [model1_accuracy_diff, model2_accuracy_diff]\n",
    "model_names = ['Model 1 (LSTM)', 'Model 2 (GRU)']\n",
    "\n",
    "# Plotting\n",
    "plt.figure(figsize=(6, 5))\n",
    "plt.bar(model_names, rmse_values, color=['skyblue', 'salmon'])\n",
    "plt.title(\"Comparison of RMSE Difference on Test Set\")\n",
    "plt.ylabel(\"RMSE\")\n",
    "plt.ylim(0, max(rmse_values) * 1.1)  # Add some headroom\n",
    "for i, val in enumerate(rmse_values):\n",
    "    plt.text(i, val + 10, f\"{val:.2f}\", ha='center')  # Display RMSE values on top\n",
    "\n",
    "plt.show()"
   ]
  },
  {
   "cell_type": "code",
   "execution_count": null,
   "id": "97ea1097-eb17-488f-bfe9-6804392248d3",
   "metadata": {},
   "outputs": [],
   "source": []
  }
 ],
 "metadata": {
  "kernelspec": {
   "display_name": "Python (myproject)",
   "language": "python",
   "name": "myproject"
  },
  "language_info": {
   "codemirror_mode": {
    "name": "ipython",
    "version": 3
   },
   "file_extension": ".py",
   "mimetype": "text/x-python",
   "name": "python",
   "nbconvert_exporter": "python",
   "pygments_lexer": "ipython3",
   "version": "3.10.18"
  }
 },
 "nbformat": 4,
 "nbformat_minor": 5
}
